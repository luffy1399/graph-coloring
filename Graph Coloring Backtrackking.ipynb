{
 "cells": [
  {
   "cell_type": "code",
   "execution_count": 2,
   "id": "82be6b7a",
   "metadata": {},
   "outputs": [
    {
     "name": "stdout",
     "output_type": "stream",
     "text": [
      "Solution exist and Following are the assigned colours:\n",
      "1 2 3 2 "
     ]
    },
    {
     "data": {
      "text/plain": [
       "True"
      ]
     },
     "execution_count": 2,
     "metadata": {},
     "output_type": "execute_result"
    }
   ],
   "source": [
    "V = 4\n",
    "m = 3\n",
    "graph = [[0, 1, 1, 1], \n",
    "         [1, 0, 1, 0], \n",
    "         [1, 1, 0, 1], \n",
    "         [1, 0, 1, 0]]\n",
    "\n",
    "def isSafe(v, colour, c):\n",
    "    for i in range(V):\n",
    "        if graph[v][i] == 1 and colour[i] == c:\n",
    "            return False\n",
    "    return True\n",
    "\n",
    "def graphColourUtil(m, colour, v):\n",
    "    if v == V:\n",
    "        return True\n",
    "\n",
    "    for c in range(1, m+1):\n",
    "        if isSafe(v, colour, c) == True:\n",
    "            colour[v] = c\n",
    "            if graphColourUtil(m, colour, v + 1) == True:\n",
    "                return True\n",
    "            colour[v] = 0\n",
    "\n",
    "    return False\n",
    "\n",
    "def graphColouring(m):\n",
    "    colour = [0] * V\n",
    "    if graphColourUtil(m, colour, 0) == False:\n",
    "        return False\n",
    "    print(\"Solution exist and Following are the assigned colours:\")\n",
    "    for c in colour:\n",
    "        print(c, end=' ')\n",
    "    return True\n",
    "\n",
    "graphColouring(m)\n",
    "\n",
    "#Output"
   ]
  },
  {
   "cell_type": "code",
   "execution_count": null,
   "id": "f5f68958",
   "metadata": {},
   "outputs": [],
   "source": []
  }
 ],
 "metadata": {
  "kernelspec": {
   "display_name": "Python 3 (ipykernel)",
   "language": "python",
   "name": "python3"
  },
  "language_info": {
   "codemirror_mode": {
    "name": "ipython",
    "version": 3
   },
   "file_extension": ".py",
   "mimetype": "text/x-python",
   "name": "python",
   "nbconvert_exporter": "python",
   "pygments_lexer": "ipython3",
   "version": "3.10.9"
  }
 },
 "nbformat": 4,
 "nbformat_minor": 5
}
